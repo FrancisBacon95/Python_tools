{
 "cells": [
  {
   "cell_type": "markdown",
   "metadata": {},
   "source": [
    "# 클래스"
   ]
  },
  {
   "cell_type": "code",
   "execution_count": 1,
   "metadata": {},
   "outputs": [
    {
     "name": "stdout",
     "output_type": "stream",
     "text": [
      "3\n",
      "7\n"
     ]
    }
   ],
   "source": [
    "result=0\n",
    "def add(num):\n",
    "    global result\n",
    "    result += num\n",
    "    return result\n",
    "\n",
    "print(add(3))\n",
    "print(add(4))"
   ]
  },
  {
   "cell_type": "code",
   "execution_count": 7,
   "metadata": {},
   "outputs": [],
   "source": [
    "class Service:\n",
    "    secret=\"영구는 배꼽이 두 개다.\""
   ]
  },
  {
   "cell_type": "code",
   "execution_count": 6,
   "metadata": {},
   "outputs": [
    {
     "data": {
      "text/plain": [
       "3.8947368421052633"
      ]
     },
     "execution_count": 6,
     "metadata": {},
     "output_type": "execute_result"
    }
   ],
   "source": [
    "pey=service()"
   ]
  },
  {
   "cell_type": "code",
   "execution_count": 13,
   "metadata": {},
   "outputs": [],
   "source": [
    "class service:\n",
    "    secret=\"영구의 이야기\"\n",
    "    def sum(self,a,b):\n",
    "        result=a+b\n",
    "        print(\"%s + %s = %s\"%(a,b,result))"
   ]
  },
  {
   "cell_type": "code",
   "execution_count": 14,
   "metadata": {},
   "outputs": [],
   "source": [
    "pey=service()"
   ]
  },
  {
   "cell_type": "code",
   "execution_count": 15,
   "metadata": {},
   "outputs": [
    {
     "name": "stdout",
     "output_type": "stream",
     "text": [
      "1 + 1 = 2\n"
     ]
    }
   ],
   "source": [
    "pey.sum(1,1)"
   ]
  },
  {
   "cell_type": "code",
   "execution_count": 19,
   "metadata": {},
   "outputs": [],
   "source": [
    "class service:\n",
    "    secret=\"영구의 이야기\"\n",
    "    def setname(self,name):\n",
    "        self.name=name\n",
    "    def sum(self,a,b):\n",
    "        result=a+b\n",
    "        print(\"%s님 %s + %s = %s 이다.\"%(self.name,a,b,result))\n",
    "    "
   ]
  },
  {
   "cell_type": "code",
   "execution_count": 21,
   "metadata": {},
   "outputs": [
    {
     "name": "stdout",
     "output_type": "stream",
     "text": [
      "홍길동님 1 + 1 = 2 이다.\n"
     ]
    }
   ],
   "source": [
    "pey=service()\n",
    "pey.setname(\"홍길동\")\n",
    "pey.sum(1,1)"
   ]
  },
  {
   "cell_type": "code",
   "execution_count": 25,
   "metadata": {},
   "outputs": [],
   "source": [
    "class service:\n",
    "    secret=\"영구 아야기\"\n",
    "    def __init__(self,name):\n",
    "        self.name=name\n",
    "    def sum(self,a,b):\n",
    "        result=a+b\n",
    "        print(\"%s님, %s+%s=%s입니다.\"%(self.name,a,b,result))   "
   ]
  },
  {
   "cell_type": "code",
   "execution_count": 26,
   "metadata": {},
   "outputs": [],
   "source": [
    "pey=service(\"홍길동\")"
   ]
  },
  {
   "cell_type": "code",
   "execution_count": 27,
   "metadata": {},
   "outputs": [
    {
     "name": "stdout",
     "output_type": "stream",
     "text": [
      "홍길동님, 1+1=2입니다.\n"
     ]
    }
   ],
   "source": [
    "pey.sum(1,1)"
   ]
  },
  {
   "cell_type": "code",
   "execution_count": 30,
   "metadata": {},
   "outputs": [],
   "source": [
    "class fourcal:\n",
    "    pass"
   ]
  },
  {
   "cell_type": "code",
   "execution_count": 31,
   "metadata": {},
   "outputs": [
    {
     "data": {
      "text/plain": [
       "__main__.fourcal"
      ]
     },
     "execution_count": 31,
     "metadata": {},
     "output_type": "execute_result"
    }
   ],
   "source": [
    "a=fourcal()\n",
    "type(a)"
   ]
  },
  {
   "cell_type": "code",
   "execution_count": 36,
   "metadata": {},
   "outputs": [],
   "source": [
    "class fourcal:\n",
    "    def setdata(self,first,second):\n",
    "        self.first=first\n",
    "        self.second=second\n",
    "    def sum(self):\n",
    "        result=self.first + self.second\n",
    "        return result\n",
    "    def mul(self):\n",
    "        result=self.first * self.second\n",
    "        return result\n",
    "    def sub(self):\n",
    "        result=self.first - self.second\n",
    "        return result\n",
    "    def div(self):\n",
    "        result=self.first / self.second\n",
    "        return result"
   ]
  },
  {
   "cell_type": "code",
   "execution_count": 39,
   "metadata": {},
   "outputs": [],
   "source": [
    "a,b=fourcal(),fourcal()"
   ]
  },
  {
   "cell_type": "code",
   "execution_count": 45,
   "metadata": {},
   "outputs": [
    {
     "name": "stdout",
     "output_type": "stream",
     "text": [
      "6\n",
      "10\n"
     ]
    }
   ],
   "source": [
    "a.setdata(4,2)\n",
    "b.setdata(3,7)\n",
    "print(a.sum())\n",
    "print(b.sum())"
   ]
  },
  {
   "cell_type": "code",
   "execution_count": 46,
   "metadata": {},
   "outputs": [],
   "source": [
    "class housechoi:\n",
    "    pass"
   ]
  },
  {
   "cell_type": "code",
   "execution_count": 67,
   "metadata": {},
   "outputs": [],
   "source": [
    "class housechoi:\n",
    "    lastname=\"최\"\n",
    "    def setname(self,name):\n",
    "        self.fullname=self.lastname+name\n",
    "    def travel(self,where):\n",
    "        self.goingto=self.fullname+\"은\"+\" \"+where+\" \"+\"가고싶다.\""
   ]
  },
  {
   "cell_type": "code",
   "execution_count": 68,
   "metadata": {},
   "outputs": [
    {
     "name": "stdout",
     "output_type": "stream",
     "text": [
      "최\n"
     ]
    },
    {
     "data": {
      "text/plain": [
       "'최재혁은 집 가고싶다.'"
      ]
     },
     "execution_count": 68,
     "metadata": {},
     "output_type": "execute_result"
    }
   ],
   "source": [
    "jh=housechoi()\n",
    "jh.setname(\"재혁\")\n",
    "jh.travel(\"집\")\n",
    "jh.goingto\n"
   ]
  },
  {
   "cell_type": "code",
   "execution_count": 83,
   "metadata": {},
   "outputs": [],
   "source": [
    "class housechoi:\n",
    "    lastname=\"최\"\n",
    "    def __init__(self,name):\n",
    "        self.fullname=self.lastname+name\n",
    "    def time(self,howlong):\n",
    "        self.time=howlong\n",
    "    def travel(self,where,howlong):\n",
    "        self.goingto=self.fullname+\"은\"+\" \"+where+\" \"+self.time+\"가고싶다.\"\n",
    "  "
   ]
  },
  {
   "cell_type": "code",
   "execution_count": 70,
   "metadata": {},
   "outputs": [
    {
     "ename": "TypeError",
     "evalue": "__init__() missing 1 required positional argument: 'name'",
     "output_type": "error",
     "traceback": [
      "\u001b[1;31m---------------------------------------------------------------------------\u001b[0m",
      "\u001b[1;31mTypeError\u001b[0m                                 Traceback (most recent call last)",
      "\u001b[1;32m<ipython-input-70-6736377bb78b>\u001b[0m in \u001b[0;36m<module>\u001b[1;34m()\u001b[0m\n\u001b[1;32m----> 1\u001b[1;33m \u001b[0mjs\u001b[0m\u001b[1;33m=\u001b[0m\u001b[0mhousechoi\u001b[0m\u001b[1;33m(\u001b[0m\u001b[1;33m)\u001b[0m\u001b[1;33m\u001b[0m\u001b[0m\n\u001b[0m",
      "\u001b[1;31mTypeError\u001b[0m: __init__() missing 1 required positional argument: 'name'"
     ]
    }
   ],
   "source": [
    "js=housechoi()"
   ]
  },
  {
   "cell_type": "code",
   "execution_count": 84,
   "metadata": {},
   "outputs": [
    {
     "data": {
      "text/plain": [
       "'최재혁은 집 3일간가고싶다.'"
      ]
     },
     "execution_count": 84,
     "metadata": {},
     "output_type": "execute_result"
    }
   ],
   "source": [
    "js=housechoi(\"재혁\")\n",
    "js.time(\"3일간\")\n",
    "js.travel(\"집\",js.time)\n",
    "js.goingto"
   ]
  },
  {
   "cell_type": "code",
   "execution_count": 86,
   "metadata": {},
   "outputs": [],
   "source": [
    "class housekim(housechoi):\n",
    "    lastname=\"김\""
   ]
  },
  {
   "cell_type": "code",
   "execution_count": 104,
   "metadata": {},
   "outputs": [
    {
     "data": {
      "text/plain": [
       "'김모치은 집 이틀가고싶다.'"
      ]
     },
     "execution_count": 104,
     "metadata": {},
     "output_type": "execute_result"
    }
   ],
   "source": [
    "mc=housekim(\"모치\")\n",
    "mc.time(\"이틀\")\n",
    "mc.travel(\"집\",mc.time)\n",
    "mc.goingto"
   ]
  },
  {
   "cell_type": "markdown",
   "metadata": {},
   "source": [
    "## 오버로딩"
   ]
  },
  {
   "cell_type": "code",
   "execution_count": 101,
   "metadata": {},
   "outputs": [],
   "source": [
    "class housechoi:\n",
    "    lastname=\"최\"\n",
    "    def __init__(self,name):\n",
    "        self.fullname=self.lastname+name\n",
    "    def time(self,howlong):\n",
    "        self.time=howlong\n",
    "    def travel(self,where,howlong):\n",
    "        self.goingto=self.fullname+\"은\"+\" \"+where+\" \"+self.time+\"가고싶다.\"\n",
    "    def love(self,other):\n",
    "        print(\"%s, %s 사랑중\"%(self.fullname,other.fullname))\n",
    "    def __add__(self,other):\n",
    "        print(\"%s, %s 연애중\"%(self.fullname,other.fullname))\n",
    "        \n",
    "class housekim(housechoi):\n",
    "    lastname=\"김\""
   ]
  },
  {
   "cell_type": "code",
   "execution_count": null,
   "metadata": {},
   "outputs": [],
   "source": []
  },
  {
   "cell_type": "code",
   "execution_count": 102,
   "metadata": {},
   "outputs": [
    {
     "name": "stdout",
     "output_type": "stream",
     "text": [
      "최재혁, 김모치 사랑중\n",
      "최재혁, 김모치 연애중\n"
     ]
    }
   ],
   "source": [
    "jh=housechoi(\"재혁\")\n",
    "mc=housekim(\"모치\")\n",
    "jh.love(mc)\n",
    "jh + mc"
   ]
  },
  {
   "cell_type": "code",
   "execution_count": null,
   "metadata": {},
   "outputs": [],
   "source": []
  }
 ],
 "metadata": {
  "kernelspec": {
   "display_name": "Python 3",
   "language": "python",
   "name": "python3"
  },
  "language_info": {
   "codemirror_mode": {
    "name": "ipython",
    "version": 3
   },
   "file_extension": ".py",
   "mimetype": "text/x-python",
   "name": "python",
   "nbconvert_exporter": "python",
   "pygments_lexer": "ipython3",
   "version": "3.6.5"
  }
 },
 "nbformat": 4,
 "nbformat_minor": 2
}
